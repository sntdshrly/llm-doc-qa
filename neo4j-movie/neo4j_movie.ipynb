{
  "nbformat": 4,
  "nbformat_minor": 0,
  "metadata": {
    "colab": {
      "provenance": []
    },
    "kernelspec": {
      "name": "python3",
      "display_name": "Python 3"
    },
    "language_info": {
      "name": "python"
    }
  },
  "cells": [
    {
      "cell_type": "markdown",
      "source": [
        "Please open https://sandbox.neo4j.com/\n",
        "\n",
        "For query all the nodes `MATCH(n) RETURN(n)`"
      ],
      "metadata": {
        "id": "L_zgqAGfKqgo"
      }
    },
    {
      "cell_type": "markdown",
      "source": [
        "# Install"
      ],
      "metadata": {
        "id": "Q0sXVILk09Jz"
      }
    },
    {
      "cell_type": "code",
      "execution_count": 2,
      "metadata": {
        "id": "KFTlR3CSrIIn"
      },
      "outputs": [],
      "source": [
        "!pip install -q neo4j-driver --use-deprecated=legacy-resolver\n",
        "!pip install -q gradio --use-deprecated=legacy-resolver"
      ]
    },
    {
      "cell_type": "markdown",
      "source": [
        "# Imports"
      ],
      "metadata": {
        "id": "MFhiENah0_e-"
      }
    },
    {
      "cell_type": "code",
      "source": [
        "from neo4j import GraphDatabase\n",
        "import spacy\n",
        "import gradio as gr"
      ],
      "metadata": {
        "id": "dhWxRbvOrNaP"
      },
      "execution_count": 3,
      "outputs": []
    },
    {
      "cell_type": "code",
      "source": [
        "driver = GraphDatabase.driver(\"bolt://44.192.118.201:7687\",\n",
        "                              auth=(\"neo4j\",\n",
        "                                    \"slides-seesaws-checkouts\"))"
      ],
      "metadata": {
        "id": "5g7jxss6svoo"
      },
      "execution_count": 4,
      "outputs": []
    },
    {
      "cell_type": "code",
      "source": [
        "nlp = spacy.load(\"en_core_web_sm\")"
      ],
      "metadata": {
        "id": "tfe4M7Gxsvq1"
      },
      "execution_count": 5,
      "outputs": []
    },
    {
      "cell_type": "markdown",
      "source": [
        "# Functions"
      ],
      "metadata": {
        "id": "ieMX3jyi1CWA"
      }
    },
    {
      "cell_type": "code",
      "source": [
        "def extract_entity(question, entity_type):\n",
        "    doc = nlp(question)\n",
        "    for ent in doc.ents:\n",
        "        if ent.label_ in entity_type:\n",
        "            return ent.text\n",
        "    return None"
      ],
      "metadata": {
        "id": "fug8P0aYtKfu"
      },
      "execution_count": 6,
      "outputs": []
    },
    {
      "cell_type": "code",
      "source": [
        "def chatbot(input, history=[]):\n",
        "    output = get_answer(input)\n",
        "    history.append((input, output))\n",
        "    return history, history"
      ],
      "metadata": {
        "id": "DnbVXu8wxrCm"
      },
      "execution_count": 7,
      "outputs": []
    },
    {
      "cell_type": "code",
      "source": [
        "def get_answer(question):\n",
        "    doc = nlp(question)\n",
        "    movie_title = extract_entity(question, [\"WORK_OF_ART\", \"MOVIE\"])\n",
        "    director_name = extract_entity(question, [\"PERSON\"])\n",
        "    if movie_title is None:\n",
        "        return \"Sorry, I don't understand what movie you're asking about.\"\n",
        "\n",
        "    with driver.session() as session:\n",
        "        if \"release\" in question or \"released\" in question:\n",
        "            result = session.run(f\"MATCH (m:Movie) WHERE m.title = '{movie_title}' RETURN m.released\")\n",
        "            if result.peek() is None:\n",
        "                return f\"No information found for the movie '{movie_title}'\"\n",
        "            for record in result:\n",
        "                return f\"The release date of '{movie_title}' is: {record['m.released']}\"\n",
        "        else:\n",
        "            return \"Sorry, I don't understand what you're asking.\""
      ],
      "metadata": {
        "id": "s4JokYyjtPsC"
      },
      "execution_count": 8,
      "outputs": []
    },
    {
      "cell_type": "markdown",
      "source": [
        "# Interface"
      ],
      "metadata": {
        "id": "wfULu_Ft1Eag"
      }
    },
    {
      "cell_type": "code",
      "source": [
        "gr.Interface(fn = chatbot,\n",
        "             inputs = [\"text\",'state'],\n",
        "             outputs = [\"chatbot\",'state']).launch(debug = True)"
      ],
      "metadata": {
        "id": "PsenWfKJwF8m",
        "colab": {
          "base_uri": "https://localhost:8080/",
          "height": 660
        },
        "outputId": "ff5bce49-e0f3-4532-b54a-370f7e01b348"
      },
      "execution_count": 9,
      "outputs": [
        {
          "output_type": "stream",
          "name": "stdout",
          "text": [
            "Setting queue=True in a Colab notebook requires sharing enabled. Setting `share=True` (you can turn this off by setting `share=False` in `launch()` explicitly).\n",
            "\n",
            "Colab notebook detected. This cell will run indefinitely so that you can see errors and logs. To turn off, set debug=False in launch().\n",
            "Running on public URL: https://ef7b0c2ce859760524.gradio.live\n",
            "\n",
            "This share link expires in 72 hours. For free permanent hosting and GPU upgrades, run `gradio deploy` from Terminal to deploy to Spaces (https://huggingface.co/spaces)\n"
          ]
        },
        {
          "output_type": "display_data",
          "data": {
            "text/plain": [
              "<IPython.core.display.HTML object>"
            ],
            "text/html": [
              "<div><iframe src=\"https://ef7b0c2ce859760524.gradio.live\" width=\"100%\" height=\"500\" allow=\"autoplay; camera; microphone; clipboard-read; clipboard-write;\" frameborder=\"0\" allowfullscreen></iframe></div>"
            ]
          },
          "metadata": {}
        },
        {
          "output_type": "stream",
          "name": "stdout",
          "text": [
            "Keyboard interruption in main thread... closing server.\n",
            "Killing tunnel 127.0.0.1:7860 <> https://ef7b0c2ce859760524.gradio.live\n"
          ]
        },
        {
          "output_type": "execute_result",
          "data": {
            "text/plain": []
          },
          "metadata": {},
          "execution_count": 9
        }
      ]
    },
    {
      "cell_type": "code",
      "source": [],
      "metadata": {
        "id": "LZ3wrs5kttVg"
      },
      "execution_count": null,
      "outputs": []
    }
  ]
}